{
  "nbformat": 4,
  "nbformat_minor": 0,
  "metadata": {
    "colab": {
      "name": "Chicago_Crime_Detective.ipynb",
      "provenance": [],
      "collapsed_sections": []
    },
    "kernelspec": {
      "name": "python3",
      "display_name": "Python 3"
    }
  },
  "cells": [
    {
      "cell_type": "code",
      "metadata": {
        "id": "nPVZtVUOeak7",
        "colab_type": "code",
        "colab": {
          "base_uri": "https://localhost:8080/",
          "height": 70
        },
        "outputId": "c82c4e79-79f1-40d8-a177-3775f02011bc"
      },
      "source": [
        "import pandas as pd\n",
        "import numpy as np\n",
        "import matplotlib.pyplot as plt\n",
        "%matplotlib inline\n",
        "import seaborn as sns\n",
        "import dateutil\n"
      ],
      "execution_count": 1,
      "outputs": [
        {
          "output_type": "stream",
          "text": [
            "/usr/local/lib/python3.6/dist-packages/statsmodels/tools/_testing.py:19: FutureWarning: pandas.util.testing is deprecated. Use the functions in the public API at pandas.testing instead.\n",
            "  import pandas.util.testing as tm\n"
          ],
          "name": "stderr"
        }
      ]
    },
    {
      "cell_type": "code",
      "metadata": {
        "id": "emifhSRqei6C",
        "colab_type": "code",
        "colab": {
          "base_uri": "https://localhost:8080/",
          "height": 50
        },
        "outputId": "698d4494-1319-4e2a-9cad-a325b78401ab"
      },
      "source": [
        "detective = pd.read_csv(\"https://tinyurl.com/ydgedlg3\")"
      ],
      "execution_count": 2,
      "outputs": [
        {
          "output_type": "stream",
          "text": [
            "/usr/local/lib/python3.6/dist-packages/IPython/core/interactiveshell.py:2718: DtypeWarning: Columns (7,8) have mixed types.Specify dtype option on import or set low_memory=False.\n",
            "  interactivity=interactivity, compiler=compiler, result=result)\n"
          ],
          "name": "stderr"
        }
      ]
    },
    {
      "cell_type": "code",
      "metadata": {
        "id": "vDGfbbCxekcJ",
        "colab_type": "code",
        "colab": {
          "base_uri": "https://localhost:8080/",
          "height": 195
        },
        "outputId": "b38db774-a39d-46ff-ada4-32a8212292b6"
      },
      "source": [
        "detective.head()"
      ],
      "execution_count": 3,
      "outputs": [
        {
          "output_type": "execute_result",
          "data": {
            "text/html": [
              "<div>\n",
              "<style scoped>\n",
              "    .dataframe tbody tr th:only-of-type {\n",
              "        vertical-align: middle;\n",
              "    }\n",
              "\n",
              "    .dataframe tbody tr th {\n",
              "        vertical-align: top;\n",
              "    }\n",
              "\n",
              "    .dataframe thead th {\n",
              "        text-align: right;\n",
              "    }\n",
              "</style>\n",
              "<table border=\"1\" class=\"dataframe\">\n",
              "  <thead>\n",
              "    <tr style=\"text-align: right;\">\n",
              "      <th></th>\n",
              "      <th>Unnamed: 0</th>\n",
              "      <th>ID</th>\n",
              "      <th>Date</th>\n",
              "      <th>LocationDescription</th>\n",
              "      <th>Arrest</th>\n",
              "      <th>Domestic</th>\n",
              "      <th>Beat</th>\n",
              "      <th>District</th>\n",
              "      <th>CommunityArea</th>\n",
              "      <th>Year</th>\n",
              "    </tr>\n",
              "  </thead>\n",
              "  <tbody>\n",
              "    <tr>\n",
              "      <th>0</th>\n",
              "      <td>0</td>\n",
              "      <td>8951354</td>\n",
              "      <td>12/31/12 23:15</td>\n",
              "      <td>STREET</td>\n",
              "      <td>False</td>\n",
              "      <td>False</td>\n",
              "      <td>623</td>\n",
              "      <td>6</td>\n",
              "      <td>69</td>\n",
              "      <td>2012</td>\n",
              "    </tr>\n",
              "    <tr>\n",
              "      <th>1</th>\n",
              "      <td>1</td>\n",
              "      <td>8951141</td>\n",
              "      <td>12/31/12 22:00</td>\n",
              "      <td>STREET</td>\n",
              "      <td>False</td>\n",
              "      <td>False</td>\n",
              "      <td>1213</td>\n",
              "      <td>12</td>\n",
              "      <td>24</td>\n",
              "      <td>2012</td>\n",
              "    </tr>\n",
              "    <tr>\n",
              "      <th>2</th>\n",
              "      <td>2</td>\n",
              "      <td>8952745</td>\n",
              "      <td>12/31/12 22:00</td>\n",
              "      <td>RESIDENTIAL YARD (FRONT/BACK)</td>\n",
              "      <td>False</td>\n",
              "      <td>False</td>\n",
              "      <td>1622</td>\n",
              "      <td>16</td>\n",
              "      <td>11</td>\n",
              "      <td>2012</td>\n",
              "    </tr>\n",
              "    <tr>\n",
              "      <th>3</th>\n",
              "      <td>3</td>\n",
              "      <td>8952223</td>\n",
              "      <td>12/31/12 22:00</td>\n",
              "      <td>STREET</td>\n",
              "      <td>False</td>\n",
              "      <td>False</td>\n",
              "      <td>724</td>\n",
              "      <td>7</td>\n",
              "      <td>67</td>\n",
              "      <td>2012</td>\n",
              "    </tr>\n",
              "    <tr>\n",
              "      <th>4</th>\n",
              "      <td>4</td>\n",
              "      <td>8951608</td>\n",
              "      <td>12/31/12 21:30</td>\n",
              "      <td>STREET</td>\n",
              "      <td>False</td>\n",
              "      <td>False</td>\n",
              "      <td>211</td>\n",
              "      <td>2</td>\n",
              "      <td>35</td>\n",
              "      <td>2012</td>\n",
              "    </tr>\n",
              "  </tbody>\n",
              "</table>\n",
              "</div>"
            ],
            "text/plain": [
              "   Unnamed: 0       ID            Date  ... District  CommunityArea  Year\n",
              "0           0  8951354  12/31/12 23:15  ...        6             69  2012\n",
              "1           1  8951141  12/31/12 22:00  ...       12             24  2012\n",
              "2           2  8952745  12/31/12 22:00  ...       16             11  2012\n",
              "3           3  8952223  12/31/12 22:00  ...        7             67  2012\n",
              "4           4  8951608  12/31/12 21:30  ...        2             35  2012\n",
              "\n",
              "[5 rows x 10 columns]"
            ]
          },
          "metadata": {
            "tags": []
          },
          "execution_count": 3
        }
      ]
    },
    {
      "cell_type": "code",
      "metadata": {
        "id": "8MH--4ere6UC",
        "colab_type": "code",
        "colab": {
          "base_uri": "https://localhost:8080/",
          "height": 402
        },
        "outputId": "8ce5467c-d907-441b-db3c-21cf5029314b"
      },
      "source": [
        "detective"
      ],
      "execution_count": 4,
      "outputs": [
        {
          "output_type": "execute_result",
          "data": {
            "text/html": [
              "<div>\n",
              "<style scoped>\n",
              "    .dataframe tbody tr th:only-of-type {\n",
              "        vertical-align: middle;\n",
              "    }\n",
              "\n",
              "    .dataframe tbody tr th {\n",
              "        vertical-align: top;\n",
              "    }\n",
              "\n",
              "    .dataframe thead th {\n",
              "        text-align: right;\n",
              "    }\n",
              "</style>\n",
              "<table border=\"1\" class=\"dataframe\">\n",
              "  <thead>\n",
              "    <tr style=\"text-align: right;\">\n",
              "      <th></th>\n",
              "      <th>Unnamed: 0</th>\n",
              "      <th>ID</th>\n",
              "      <th>Date</th>\n",
              "      <th>LocationDescription</th>\n",
              "      <th>Arrest</th>\n",
              "      <th>Domestic</th>\n",
              "      <th>Beat</th>\n",
              "      <th>District</th>\n",
              "      <th>CommunityArea</th>\n",
              "      <th>Year</th>\n",
              "    </tr>\n",
              "  </thead>\n",
              "  <tbody>\n",
              "    <tr>\n",
              "      <th>0</th>\n",
              "      <td>0</td>\n",
              "      <td>8951354</td>\n",
              "      <td>12/31/12 23:15</td>\n",
              "      <td>STREET</td>\n",
              "      <td>False</td>\n",
              "      <td>False</td>\n",
              "      <td>623</td>\n",
              "      <td>6</td>\n",
              "      <td>69</td>\n",
              "      <td>2012</td>\n",
              "    </tr>\n",
              "    <tr>\n",
              "      <th>1</th>\n",
              "      <td>1</td>\n",
              "      <td>8951141</td>\n",
              "      <td>12/31/12 22:00</td>\n",
              "      <td>STREET</td>\n",
              "      <td>False</td>\n",
              "      <td>False</td>\n",
              "      <td>1213</td>\n",
              "      <td>12</td>\n",
              "      <td>24</td>\n",
              "      <td>2012</td>\n",
              "    </tr>\n",
              "    <tr>\n",
              "      <th>2</th>\n",
              "      <td>2</td>\n",
              "      <td>8952745</td>\n",
              "      <td>12/31/12 22:00</td>\n",
              "      <td>RESIDENTIAL YARD (FRONT/BACK)</td>\n",
              "      <td>False</td>\n",
              "      <td>False</td>\n",
              "      <td>1622</td>\n",
              "      <td>16</td>\n",
              "      <td>11</td>\n",
              "      <td>2012</td>\n",
              "    </tr>\n",
              "    <tr>\n",
              "      <th>3</th>\n",
              "      <td>3</td>\n",
              "      <td>8952223</td>\n",
              "      <td>12/31/12 22:00</td>\n",
              "      <td>STREET</td>\n",
              "      <td>False</td>\n",
              "      <td>False</td>\n",
              "      <td>724</td>\n",
              "      <td>7</td>\n",
              "      <td>67</td>\n",
              "      <td>2012</td>\n",
              "    </tr>\n",
              "    <tr>\n",
              "      <th>4</th>\n",
              "      <td>4</td>\n",
              "      <td>8951608</td>\n",
              "      <td>12/31/12 21:30</td>\n",
              "      <td>STREET</td>\n",
              "      <td>False</td>\n",
              "      <td>False</td>\n",
              "      <td>211</td>\n",
              "      <td>2</td>\n",
              "      <td>35</td>\n",
              "      <td>2012</td>\n",
              "    </tr>\n",
              "    <tr>\n",
              "      <th>...</th>\n",
              "      <td>...</td>\n",
              "      <td>...</td>\n",
              "      <td>...</td>\n",
              "      <td>...</td>\n",
              "      <td>...</td>\n",
              "      <td>...</td>\n",
              "      <td>...</td>\n",
              "      <td>...</td>\n",
              "      <td>...</td>\n",
              "      <td>...</td>\n",
              "    </tr>\n",
              "    <tr>\n",
              "      <th>191636</th>\n",
              "      <td>191636</td>\n",
              "      <td>1310068</td>\n",
              "      <td>1/1/01 0:05</td>\n",
              "      <td>STREET</td>\n",
              "      <td>False</td>\n",
              "      <td>False</td>\n",
              "      <td>1123</td>\n",
              "      <td>NaN</td>\n",
              "      <td>NaN</td>\n",
              "      <td>2001</td>\n",
              "    </tr>\n",
              "    <tr>\n",
              "      <th>191637</th>\n",
              "      <td>191637</td>\n",
              "      <td>1313404</td>\n",
              "      <td>1/1/01 0:01</td>\n",
              "      <td>STREET</td>\n",
              "      <td>False</td>\n",
              "      <td>False</td>\n",
              "      <td>2023</td>\n",
              "      <td>NaN</td>\n",
              "      <td>NaN</td>\n",
              "      <td>2001</td>\n",
              "    </tr>\n",
              "    <tr>\n",
              "      <th>191638</th>\n",
              "      <td>191638</td>\n",
              "      <td>1313442</td>\n",
              "      <td>1/1/01 0:01</td>\n",
              "      <td>STREET</td>\n",
              "      <td>False</td>\n",
              "      <td>False</td>\n",
              "      <td>911</td>\n",
              "      <td>NaN</td>\n",
              "      <td>NaN</td>\n",
              "      <td>2001</td>\n",
              "    </tr>\n",
              "    <tr>\n",
              "      <th>191639</th>\n",
              "      <td>191639</td>\n",
              "      <td>1563324</td>\n",
              "      <td>1/1/01 0:01</td>\n",
              "      <td>STREET</td>\n",
              "      <td>False</td>\n",
              "      <td>False</td>\n",
              "      <td>1712</td>\n",
              "      <td>NaN</td>\n",
              "      <td>NaN</td>\n",
              "      <td>2001</td>\n",
              "    </tr>\n",
              "    <tr>\n",
              "      <th>191640</th>\n",
              "      <td>191640</td>\n",
              "      <td>1310463</td>\n",
              "      <td>1/1/01 0:01</td>\n",
              "      <td>STREET</td>\n",
              "      <td>False</td>\n",
              "      <td>False</td>\n",
              "      <td>1911</td>\n",
              "      <td>NaN</td>\n",
              "      <td>NaN</td>\n",
              "      <td>2001</td>\n",
              "    </tr>\n",
              "  </tbody>\n",
              "</table>\n",
              "<p>191641 rows × 10 columns</p>\n",
              "</div>"
            ],
            "text/plain": [
              "        Unnamed: 0       ID            Date  ... District  CommunityArea  Year\n",
              "0                0  8951354  12/31/12 23:15  ...        6             69  2012\n",
              "1                1  8951141  12/31/12 22:00  ...       12             24  2012\n",
              "2                2  8952745  12/31/12 22:00  ...       16             11  2012\n",
              "3                3  8952223  12/31/12 22:00  ...        7             67  2012\n",
              "4                4  8951608  12/31/12 21:30  ...        2             35  2012\n",
              "...            ...      ...             ...  ...      ...            ...   ...\n",
              "191636      191636  1310068     1/1/01 0:05  ...      NaN            NaN  2001\n",
              "191637      191637  1313404     1/1/01 0:01  ...      NaN            NaN  2001\n",
              "191638      191638  1313442     1/1/01 0:01  ...      NaN            NaN  2001\n",
              "191639      191639  1563324     1/1/01 0:01  ...      NaN            NaN  2001\n",
              "191640      191640  1310463     1/1/01 0:01  ...      NaN            NaN  2001\n",
              "\n",
              "[191641 rows x 10 columns]"
            ]
          },
          "metadata": {
            "tags": []
          },
          "execution_count": 4
        }
      ]
    },
    {
      "cell_type": "code",
      "metadata": {
        "id": "CGU3AtnkfKNc",
        "colab_type": "code",
        "colab": {
          "base_uri": "https://localhost:8080/",
          "height": 402
        },
        "outputId": "bbe04dd9-90dd-4d04-eca8-601048318b24"
      },
      "source": [
        "detective.isnull()"
      ],
      "execution_count": 5,
      "outputs": [
        {
          "output_type": "execute_result",
          "data": {
            "text/html": [
              "<div>\n",
              "<style scoped>\n",
              "    .dataframe tbody tr th:only-of-type {\n",
              "        vertical-align: middle;\n",
              "    }\n",
              "\n",
              "    .dataframe tbody tr th {\n",
              "        vertical-align: top;\n",
              "    }\n",
              "\n",
              "    .dataframe thead th {\n",
              "        text-align: right;\n",
              "    }\n",
              "</style>\n",
              "<table border=\"1\" class=\"dataframe\">\n",
              "  <thead>\n",
              "    <tr style=\"text-align: right;\">\n",
              "      <th></th>\n",
              "      <th>Unnamed: 0</th>\n",
              "      <th>ID</th>\n",
              "      <th>Date</th>\n",
              "      <th>LocationDescription</th>\n",
              "      <th>Arrest</th>\n",
              "      <th>Domestic</th>\n",
              "      <th>Beat</th>\n",
              "      <th>District</th>\n",
              "      <th>CommunityArea</th>\n",
              "      <th>Year</th>\n",
              "    </tr>\n",
              "  </thead>\n",
              "  <tbody>\n",
              "    <tr>\n",
              "      <th>0</th>\n",
              "      <td>False</td>\n",
              "      <td>False</td>\n",
              "      <td>False</td>\n",
              "      <td>False</td>\n",
              "      <td>False</td>\n",
              "      <td>False</td>\n",
              "      <td>False</td>\n",
              "      <td>False</td>\n",
              "      <td>False</td>\n",
              "      <td>False</td>\n",
              "    </tr>\n",
              "    <tr>\n",
              "      <th>1</th>\n",
              "      <td>False</td>\n",
              "      <td>False</td>\n",
              "      <td>False</td>\n",
              "      <td>False</td>\n",
              "      <td>False</td>\n",
              "      <td>False</td>\n",
              "      <td>False</td>\n",
              "      <td>False</td>\n",
              "      <td>False</td>\n",
              "      <td>False</td>\n",
              "    </tr>\n",
              "    <tr>\n",
              "      <th>2</th>\n",
              "      <td>False</td>\n",
              "      <td>False</td>\n",
              "      <td>False</td>\n",
              "      <td>False</td>\n",
              "      <td>False</td>\n",
              "      <td>False</td>\n",
              "      <td>False</td>\n",
              "      <td>False</td>\n",
              "      <td>False</td>\n",
              "      <td>False</td>\n",
              "    </tr>\n",
              "    <tr>\n",
              "      <th>3</th>\n",
              "      <td>False</td>\n",
              "      <td>False</td>\n",
              "      <td>False</td>\n",
              "      <td>False</td>\n",
              "      <td>False</td>\n",
              "      <td>False</td>\n",
              "      <td>False</td>\n",
              "      <td>False</td>\n",
              "      <td>False</td>\n",
              "      <td>False</td>\n",
              "    </tr>\n",
              "    <tr>\n",
              "      <th>4</th>\n",
              "      <td>False</td>\n",
              "      <td>False</td>\n",
              "      <td>False</td>\n",
              "      <td>False</td>\n",
              "      <td>False</td>\n",
              "      <td>False</td>\n",
              "      <td>False</td>\n",
              "      <td>False</td>\n",
              "      <td>False</td>\n",
              "      <td>False</td>\n",
              "    </tr>\n",
              "    <tr>\n",
              "      <th>...</th>\n",
              "      <td>...</td>\n",
              "      <td>...</td>\n",
              "      <td>...</td>\n",
              "      <td>...</td>\n",
              "      <td>...</td>\n",
              "      <td>...</td>\n",
              "      <td>...</td>\n",
              "      <td>...</td>\n",
              "      <td>...</td>\n",
              "      <td>...</td>\n",
              "    </tr>\n",
              "    <tr>\n",
              "      <th>191636</th>\n",
              "      <td>False</td>\n",
              "      <td>False</td>\n",
              "      <td>False</td>\n",
              "      <td>False</td>\n",
              "      <td>False</td>\n",
              "      <td>False</td>\n",
              "      <td>False</td>\n",
              "      <td>True</td>\n",
              "      <td>True</td>\n",
              "      <td>False</td>\n",
              "    </tr>\n",
              "    <tr>\n",
              "      <th>191637</th>\n",
              "      <td>False</td>\n",
              "      <td>False</td>\n",
              "      <td>False</td>\n",
              "      <td>False</td>\n",
              "      <td>False</td>\n",
              "      <td>False</td>\n",
              "      <td>False</td>\n",
              "      <td>True</td>\n",
              "      <td>True</td>\n",
              "      <td>False</td>\n",
              "    </tr>\n",
              "    <tr>\n",
              "      <th>191638</th>\n",
              "      <td>False</td>\n",
              "      <td>False</td>\n",
              "      <td>False</td>\n",
              "      <td>False</td>\n",
              "      <td>False</td>\n",
              "      <td>False</td>\n",
              "      <td>False</td>\n",
              "      <td>True</td>\n",
              "      <td>True</td>\n",
              "      <td>False</td>\n",
              "    </tr>\n",
              "    <tr>\n",
              "      <th>191639</th>\n",
              "      <td>False</td>\n",
              "      <td>False</td>\n",
              "      <td>False</td>\n",
              "      <td>False</td>\n",
              "      <td>False</td>\n",
              "      <td>False</td>\n",
              "      <td>False</td>\n",
              "      <td>True</td>\n",
              "      <td>True</td>\n",
              "      <td>False</td>\n",
              "    </tr>\n",
              "    <tr>\n",
              "      <th>191640</th>\n",
              "      <td>False</td>\n",
              "      <td>False</td>\n",
              "      <td>False</td>\n",
              "      <td>False</td>\n",
              "      <td>False</td>\n",
              "      <td>False</td>\n",
              "      <td>False</td>\n",
              "      <td>True</td>\n",
              "      <td>True</td>\n",
              "      <td>False</td>\n",
              "    </tr>\n",
              "  </tbody>\n",
              "</table>\n",
              "<p>191641 rows × 10 columns</p>\n",
              "</div>"
            ],
            "text/plain": [
              "        Unnamed: 0     ID   Date  ...  District  CommunityArea   Year\n",
              "0            False  False  False  ...     False          False  False\n",
              "1            False  False  False  ...     False          False  False\n",
              "2            False  False  False  ...     False          False  False\n",
              "3            False  False  False  ...     False          False  False\n",
              "4            False  False  False  ...     False          False  False\n",
              "...            ...    ...    ...  ...       ...            ...    ...\n",
              "191636       False  False  False  ...      True           True  False\n",
              "191637       False  False  False  ...      True           True  False\n",
              "191638       False  False  False  ...      True           True  False\n",
              "191639       False  False  False  ...      True           True  False\n",
              "191640       False  False  False  ...      True           True  False\n",
              "\n",
              "[191641 rows x 10 columns]"
            ]
          },
          "metadata": {
            "tags": []
          },
          "execution_count": 5
        }
      ]
    },
    {
      "cell_type": "markdown",
      "metadata": {
        "id": "IOwGikJxfRHl",
        "colab_type": "text"
      },
      "source": [
        "1.\n",
        "The numerical features are ID, Date, Beat, District, CommunityArea, Year.\n",
        "\n",
        "And the categorical features are Arrest and Domestic."
      ]
    },
    {
      "cell_type": "markdown",
      "metadata": {
        "id": "mMH308epf4uQ",
        "colab_type": "text"
      },
      "source": [
        "2.Find out the percentage of missing values in each feature column."
      ]
    },
    {
      "cell_type": "code",
      "metadata": {
        "id": "pfQLXUsyfVgB",
        "colab_type": "code",
        "colab": {
          "base_uri": "https://localhost:8080/",
          "height": 202
        },
        "outputId": "8cd8a825-2d6c-4299-9d12-f28d12ab0fe6"
      },
      "source": [
        "null_na = detective.isnull().mean().round(4)*100\n",
        "null_na"
      ],
      "execution_count": 6,
      "outputs": [
        {
          "output_type": "execute_result",
          "data": {
            "text/plain": [
              "Unnamed: 0              0.00\n",
              "ID                      0.00\n",
              "Date                    0.00\n",
              "LocationDescription     0.00\n",
              "Arrest                  0.00\n",
              "Domestic                0.00\n",
              "Beat                    0.00\n",
              "District               22.46\n",
              "CommunityArea          12.84\n",
              "Year                    0.00\n",
              "dtype: float64"
            ]
          },
          "metadata": {
            "tags": []
          },
          "execution_count": 6
        }
      ]
    },
    {
      "cell_type": "markdown",
      "metadata": {
        "id": "Buj8u90Rf8ve",
        "colab_type": "text"
      },
      "source": [
        "3.Remove columns having missing values from the dataset."
      ]
    },
    {
      "cell_type": "code",
      "metadata": {
        "id": "gUXyh2xSf92g",
        "colab_type": "code",
        "colab": {
          "base_uri": "https://localhost:8080/",
          "height": 402
        },
        "outputId": "c5889d80-4fb8-4ca7-960a-19b1cb59e82f"
      },
      "source": [
        "df = detective.dropna(axis=1)\n",
        "df"
      ],
      "execution_count": 7,
      "outputs": [
        {
          "output_type": "execute_result",
          "data": {
            "text/html": [
              "<div>\n",
              "<style scoped>\n",
              "    .dataframe tbody tr th:only-of-type {\n",
              "        vertical-align: middle;\n",
              "    }\n",
              "\n",
              "    .dataframe tbody tr th {\n",
              "        vertical-align: top;\n",
              "    }\n",
              "\n",
              "    .dataframe thead th {\n",
              "        text-align: right;\n",
              "    }\n",
              "</style>\n",
              "<table border=\"1\" class=\"dataframe\">\n",
              "  <thead>\n",
              "    <tr style=\"text-align: right;\">\n",
              "      <th></th>\n",
              "      <th>Unnamed: 0</th>\n",
              "      <th>ID</th>\n",
              "      <th>Date</th>\n",
              "      <th>LocationDescription</th>\n",
              "      <th>Arrest</th>\n",
              "      <th>Domestic</th>\n",
              "      <th>Beat</th>\n",
              "      <th>Year</th>\n",
              "    </tr>\n",
              "  </thead>\n",
              "  <tbody>\n",
              "    <tr>\n",
              "      <th>0</th>\n",
              "      <td>0</td>\n",
              "      <td>8951354</td>\n",
              "      <td>12/31/12 23:15</td>\n",
              "      <td>STREET</td>\n",
              "      <td>False</td>\n",
              "      <td>False</td>\n",
              "      <td>623</td>\n",
              "      <td>2012</td>\n",
              "    </tr>\n",
              "    <tr>\n",
              "      <th>1</th>\n",
              "      <td>1</td>\n",
              "      <td>8951141</td>\n",
              "      <td>12/31/12 22:00</td>\n",
              "      <td>STREET</td>\n",
              "      <td>False</td>\n",
              "      <td>False</td>\n",
              "      <td>1213</td>\n",
              "      <td>2012</td>\n",
              "    </tr>\n",
              "    <tr>\n",
              "      <th>2</th>\n",
              "      <td>2</td>\n",
              "      <td>8952745</td>\n",
              "      <td>12/31/12 22:00</td>\n",
              "      <td>RESIDENTIAL YARD (FRONT/BACK)</td>\n",
              "      <td>False</td>\n",
              "      <td>False</td>\n",
              "      <td>1622</td>\n",
              "      <td>2012</td>\n",
              "    </tr>\n",
              "    <tr>\n",
              "      <th>3</th>\n",
              "      <td>3</td>\n",
              "      <td>8952223</td>\n",
              "      <td>12/31/12 22:00</td>\n",
              "      <td>STREET</td>\n",
              "      <td>False</td>\n",
              "      <td>False</td>\n",
              "      <td>724</td>\n",
              "      <td>2012</td>\n",
              "    </tr>\n",
              "    <tr>\n",
              "      <th>4</th>\n",
              "      <td>4</td>\n",
              "      <td>8951608</td>\n",
              "      <td>12/31/12 21:30</td>\n",
              "      <td>STREET</td>\n",
              "      <td>False</td>\n",
              "      <td>False</td>\n",
              "      <td>211</td>\n",
              "      <td>2012</td>\n",
              "    </tr>\n",
              "    <tr>\n",
              "      <th>...</th>\n",
              "      <td>...</td>\n",
              "      <td>...</td>\n",
              "      <td>...</td>\n",
              "      <td>...</td>\n",
              "      <td>...</td>\n",
              "      <td>...</td>\n",
              "      <td>...</td>\n",
              "      <td>...</td>\n",
              "    </tr>\n",
              "    <tr>\n",
              "      <th>191636</th>\n",
              "      <td>191636</td>\n",
              "      <td>1310068</td>\n",
              "      <td>1/1/01 0:05</td>\n",
              "      <td>STREET</td>\n",
              "      <td>False</td>\n",
              "      <td>False</td>\n",
              "      <td>1123</td>\n",
              "      <td>2001</td>\n",
              "    </tr>\n",
              "    <tr>\n",
              "      <th>191637</th>\n",
              "      <td>191637</td>\n",
              "      <td>1313404</td>\n",
              "      <td>1/1/01 0:01</td>\n",
              "      <td>STREET</td>\n",
              "      <td>False</td>\n",
              "      <td>False</td>\n",
              "      <td>2023</td>\n",
              "      <td>2001</td>\n",
              "    </tr>\n",
              "    <tr>\n",
              "      <th>191638</th>\n",
              "      <td>191638</td>\n",
              "      <td>1313442</td>\n",
              "      <td>1/1/01 0:01</td>\n",
              "      <td>STREET</td>\n",
              "      <td>False</td>\n",
              "      <td>False</td>\n",
              "      <td>911</td>\n",
              "      <td>2001</td>\n",
              "    </tr>\n",
              "    <tr>\n",
              "      <th>191639</th>\n",
              "      <td>191639</td>\n",
              "      <td>1563324</td>\n",
              "      <td>1/1/01 0:01</td>\n",
              "      <td>STREET</td>\n",
              "      <td>False</td>\n",
              "      <td>False</td>\n",
              "      <td>1712</td>\n",
              "      <td>2001</td>\n",
              "    </tr>\n",
              "    <tr>\n",
              "      <th>191640</th>\n",
              "      <td>191640</td>\n",
              "      <td>1310463</td>\n",
              "      <td>1/1/01 0:01</td>\n",
              "      <td>STREET</td>\n",
              "      <td>False</td>\n",
              "      <td>False</td>\n",
              "      <td>1911</td>\n",
              "      <td>2001</td>\n",
              "    </tr>\n",
              "  </tbody>\n",
              "</table>\n",
              "<p>191641 rows × 8 columns</p>\n",
              "</div>"
            ],
            "text/plain": [
              "        Unnamed: 0       ID            Date  ... Domestic  Beat  Year\n",
              "0                0  8951354  12/31/12 23:15  ...    False   623  2012\n",
              "1                1  8951141  12/31/12 22:00  ...    False  1213  2012\n",
              "2                2  8952745  12/31/12 22:00  ...    False  1622  2012\n",
              "3                3  8952223  12/31/12 22:00  ...    False   724  2012\n",
              "4                4  8951608  12/31/12 21:30  ...    False   211  2012\n",
              "...            ...      ...             ...  ...      ...   ...   ...\n",
              "191636      191636  1310068     1/1/01 0:05  ...    False  1123  2001\n",
              "191637      191637  1313404     1/1/01 0:01  ...    False  2023  2001\n",
              "191638      191638  1313442     1/1/01 0:01  ...    False   911  2001\n",
              "191639      191639  1563324     1/1/01 0:01  ...    False  1712  2001\n",
              "191640      191640  1310463     1/1/01 0:01  ...    False  1911  2001\n",
              "\n",
              "[191641 rows x 8 columns]"
            ]
          },
          "metadata": {
            "tags": []
          },
          "execution_count": 7
        }
      ]
    },
    {
      "cell_type": "markdown",
      "metadata": {
        "id": "JaI8UkPdgCYf",
        "colab_type": "text"
      },
      "source": [
        "4. Plot the histogram for community feature. Write down your observations in a text cell.\n"
      ]
    },
    {
      "cell_type": "code",
      "metadata": {
        "id": "bL83gkVWgDNY",
        "colab_type": "code",
        "colab": {
          "base_uri": "https://localhost:8080/",
          "height": 265
        },
        "outputId": "55e2dcde-bdaa-4193-d7b1-13614c4c5f87"
      },
      "source": [
        "\n",
        "histogram=detective.CommunityArea.dropna()\n",
        "plt.hist('histogram',bins='auto')\n",
        "plt.show()"
      ],
      "execution_count": 8,
      "outputs": [
        {
          "output_type": "display_data",
          "data": {
            "image/png": "[encoded data removed]",
            "text/plain": [
              "<Figure size 432x288 with 1 Axes>"
            ]
          },
          "metadata": {
            "tags": [],
            "needs_background": "light"
          }
        }
      ]
    },
    {
      "cell_type": "markdown",
      "metadata": {
        "id": "yNj7Ba8DgHAK",
        "colab_type": "text"
      },
      "source": [
        "A histogram is most used  and understable graph for frequency distributions.From the above histogram,x-axis is the CommunityArea series and bins are taken auto.Here the width is large as you seen in the graph .From here,the width shows having continuous values in a particular band."
      ]
    },
    {
      "cell_type": "markdown",
      "metadata": {
        "id": "gqn6vv8TgK7i",
        "colab_type": "text"
      },
      "source": [
        "5.Plot countplot for district feature. Write down your observation in a text cell.\n",
        "\n"
      ]
    },
    {
      "cell_type": "code",
      "metadata": {
        "id": "LGWyfH1mgLyr",
        "colab_type": "code",
        "colab": {
          "base_uri": "https://localhost:8080/",
          "height": 302
        },
        "outputId": "c7ba173d-0a11-4356-c9d8-07734508257b"
      },
      "source": [
        "\n",
        "sns.set(style=\"darkgrid\")\n",
        "countplt = sns.countplot(x='District', data=detective)\n",
        "plt.show"
      ],
      "execution_count": 9,
      "outputs": [
        {
          "output_type": "execute_result",
          "data": {
            "text/plain": [
              "<function matplotlib.pyplot.show>"
            ]
          },
          "metadata": {
            "tags": []
          },
          "execution_count": 9
        },
        {
          "output_type": "display_data",
          "data": {
            "image/png": "[encoded data removed]",
            "text/plain": [
              "<Figure size 432x288 with 1 Axes>"
            ]
          },
          "metadata": {
            "tags": []
          }
        }
      ]
    },
    {
      "cell_type": "markdown",
      "metadata": {
        "id": "BqVklZohgSXG",
        "colab_type": "text"
      },
      "source": [
        "A countplot is kind of likea histogram or a bar graph for some categorical area.here x-axiz is denoted as district and y-axis is count variable.it defines as at one district level count value."
      ]
    },
    {
      "cell_type": "markdown",
      "metadata": {
        "id": "kC53_ah7gWS6",
        "colab_type": "text"
      },
      "source": [
        "6. On which weekday did most motor vehicle thefts occur ?"
      ]
    },
    {
      "cell_type": "code",
      "metadata": {
        "id": "AS-eIUnegYvS",
        "colab_type": "code",
        "colab": {
          "base_uri": "https://localhost:8080/",
          "height": 195
        },
        "outputId": "7e46175e-7089-46e3-9d03-4b877eccc8c1"
      },
      "source": [
        "detective['Date']=pd.to_datetime(detective.Date) \n",
        "detective.head()"
      ],
      "execution_count": 10,
      "outputs": [
        {
          "output_type": "execute_result",
          "data": {
            "text/html": [
              "<div>\n",
              "<style scoped>\n",
              "    .dataframe tbody tr th:only-of-type {\n",
              "        vertical-align: middle;\n",
              "    }\n",
              "\n",
              "    .dataframe tbody tr th {\n",
              "        vertical-align: top;\n",
              "    }\n",
              "\n",
              "    .dataframe thead th {\n",
              "        text-align: right;\n",
              "    }\n",
              "</style>\n",
              "<table border=\"1\" class=\"dataframe\">\n",
              "  <thead>\n",
              "    <tr style=\"text-align: right;\">\n",
              "      <th></th>\n",
              "      <th>Unnamed: 0</th>\n",
              "      <th>ID</th>\n",
              "      <th>Date</th>\n",
              "      <th>LocationDescription</th>\n",
              "      <th>Arrest</th>\n",
              "      <th>Domestic</th>\n",
              "      <th>Beat</th>\n",
              "      <th>District</th>\n",
              "      <th>CommunityArea</th>\n",
              "      <th>Year</th>\n",
              "    </tr>\n",
              "  </thead>\n",
              "  <tbody>\n",
              "    <tr>\n",
              "      <th>0</th>\n",
              "      <td>0</td>\n",
              "      <td>8951354</td>\n",
              "      <td>2012-12-31 23:15:00</td>\n",
              "      <td>STREET</td>\n",
              "      <td>False</td>\n",
              "      <td>False</td>\n",
              "      <td>623</td>\n",
              "      <td>6</td>\n",
              "      <td>69</td>\n",
              "      <td>2012</td>\n",
              "    </tr>\n",
              "    <tr>\n",
              "      <th>1</th>\n",
              "      <td>1</td>\n",
              "      <td>8951141</td>\n",
              "      <td>2012-12-31 22:00:00</td>\n",
              "      <td>STREET</td>\n",
              "      <td>False</td>\n",
              "      <td>False</td>\n",
              "      <td>1213</td>\n",
              "      <td>12</td>\n",
              "      <td>24</td>\n",
              "      <td>2012</td>\n",
              "    </tr>\n",
              "    <tr>\n",
              "      <th>2</th>\n",
              "      <td>2</td>\n",
              "      <td>8952745</td>\n",
              "      <td>2012-12-31 22:00:00</td>\n",
              "      <td>RESIDENTIAL YARD (FRONT/BACK)</td>\n",
              "      <td>False</td>\n",
              "      <td>False</td>\n",
              "      <td>1622</td>\n",
              "      <td>16</td>\n",
              "      <td>11</td>\n",
              "      <td>2012</td>\n",
              "    </tr>\n",
              "    <tr>\n",
              "      <th>3</th>\n",
              "      <td>3</td>\n",
              "      <td>8952223</td>\n",
              "      <td>2012-12-31 22:00:00</td>\n",
              "      <td>STREET</td>\n",
              "      <td>False</td>\n",
              "      <td>False</td>\n",
              "      <td>724</td>\n",
              "      <td>7</td>\n",
              "      <td>67</td>\n",
              "      <td>2012</td>\n",
              "    </tr>\n",
              "    <tr>\n",
              "      <th>4</th>\n",
              "      <td>4</td>\n",
              "      <td>8951608</td>\n",
              "      <td>2012-12-31 21:30:00</td>\n",
              "      <td>STREET</td>\n",
              "      <td>False</td>\n",
              "      <td>False</td>\n",
              "      <td>211</td>\n",
              "      <td>2</td>\n",
              "      <td>35</td>\n",
              "      <td>2012</td>\n",
              "    </tr>\n",
              "  </tbody>\n",
              "</table>\n",
              "</div>"
            ],
            "text/plain": [
              "   Unnamed: 0       ID                Date  ... District  CommunityArea  Year\n",
              "0           0  8951354 2012-12-31 23:15:00  ...        6             69  2012\n",
              "1           1  8951141 2012-12-31 22:00:00  ...       12             24  2012\n",
              "2           2  8952745 2012-12-31 22:00:00  ...       16             11  2012\n",
              "3           3  8952223 2012-12-31 22:00:00  ...        7             67  2012\n",
              "4           4  8951608 2012-12-31 21:30:00  ...        2             35  2012\n",
              "\n",
              "[5 rows x 10 columns]"
            ]
          },
          "metadata": {
            "tags": []
          },
          "execution_count": 10
        }
      ]
    },
    {
      "cell_type": "code",
      "metadata": {
        "id": "Jn1Jw6IKhKyQ",
        "colab_type": "code",
        "colab": {
          "base_uri": "https://localhost:8080/",
          "height": 50
        },
        "outputId": "10303c3f-f355-4bd2-8eec-3ed56b696676"
      },
      "source": [
        "\n",
        "day=detective.Date.dt.day_name()\n",
        "day.mode()"
      ],
      "execution_count": 11,
      "outputs": [
        {
          "output_type": "execute_result",
          "data": {
            "text/plain": [
              "0    Friday\n",
              "dtype: object"
            ]
          },
          "metadata": {
            "tags": []
          },
          "execution_count": 11
        }
      ]
    },
    {
      "cell_type": "markdown",
      "metadata": {
        "id": "LUBImR-GBEHf",
        "colab_type": "text"
      },
      "source": [
        "friday occurs less thefts ."
      ]
    },
    {
      "cell_type": "markdown",
      "metadata": {
        "id": "xXu0daDOhipC",
        "colab_type": "text"
      },
      "source": [
        "7.In which month did least thefts occur ? "
      ]
    },
    {
      "cell_type": "code",
      "metadata": {
        "id": "L0FNDYbchmDf",
        "colab_type": "code",
        "colab": {
          "base_uri": "https://localhost:8080/",
          "height": 235
        },
        "outputId": "99a00c77-83f3-4b82-da59-9b4b1b6f73de"
      },
      "source": [
        "month=detective.Date.dt.month_name()\n",
        "month.value_counts(ascending=False)"
      ],
      "execution_count": 12,
      "outputs": [
        {
          "output_type": "execute_result",
          "data": {
            "text/plain": [
              "October      17086\n",
              "July         16801\n",
              "August       16572\n",
              "December     16426\n",
              "November     16063\n",
              "September    16060\n",
              "January      16047\n",
              "May          16035\n",
              "June         16002\n",
              "March        15758\n",
              "April        15280\n",
              "February     13511\n",
              "Name: Date, dtype: int64"
            ]
          },
          "metadata": {
            "tags": []
          },
          "execution_count": 12
        }
      ]
    },
    {
      "cell_type": "markdown",
      "metadata": {
        "id": "_7ARgIWKiW4j",
        "colab_type": "text"
      },
      "source": [
        "8.. Each observation in the dataset represents a motor vehicle theft, and the Arrest variable indicates whether an arrest was later made for this theft. Which month has the largest number of motor vehicle thefts for which an arrest was made?\n"
      ]
    },
    {
      "cell_type": "code",
      "metadata": {
        "id": "2M2m0v00ivNE",
        "colab_type": "code",
        "colab": {
          "base_uri": "https://localhost:8080/",
          "height": 50
        },
        "outputId": "92fde348-e7d2-43de-fc28-169be0fe229e"
      },
      "source": [
        "arres=detective[detective['Arrest']==True]\n",
        "month=arres.Date.dt.month_name()\n",
        "month.mode()"
      ],
      "execution_count": 13,
      "outputs": [
        {
          "output_type": "execute_result",
          "data": {
            "text/plain": [
              "0    January\n",
              "dtype: object"
            ]
          },
          "metadata": {
            "tags": []
          },
          "execution_count": 13
        }
      ]
    },
    {
      "cell_type": "markdown",
      "metadata": {
        "id": "3DZP-Di6i7Ks",
        "colab_type": "text"
      },
      "source": [
        "\n",
        "9. Crimes for which more arrests were made are in the first half of the time period or the second half of the time period? \n",
        "(Note that the time period is from 2001 to 2012, so the middle of the time period is the beginning of 2007.)\n",
        "\n"
      ]
    },
    {
      "cell_type": "code",
      "metadata": {
        "id": "86Qv_qrgi7-u",
        "colab_type": "code",
        "colab": {
          "base_uri": "https://localhost:8080/",
          "height": 34
        },
        "outputId": "7d92a4b3-e1e9-4b60-a1f0-9e85c9ba2194"
      },
      "source": [
        "term1=arres[arres['Year']>=2007]\n",
        "term1.shape\n",
        "term2=arres[arres['Year']<2007]\n",
        "term2.shape\n",
        "if term1.shape>term2.shape:\n",
        "    print('Second half i.e; 2nd 6years has highest arrests')\n",
        "else:\n",
        "    print('First half i.e; 1st 6 years has highest arrests')"
      ],
      "execution_count": 14,
      "outputs": [
        {
          "output_type": "stream",
          "text": [
            "First half i.e; 1st 6 years has highest arrests\n"
          ],
          "name": "stdout"
        }
      ]
    },
    {
      "cell_type": "markdown",
      "metadata": {
        "id": "YNucchHClMe3",
        "colab_type": "text"
      },
      "source": [
        "10.For what proportion of motor vehicle thefts in 2001 was an arrest made?\n",
        " (Note: in this question and many others in the course, we are asking for an answer as a proportion. Therefore, your answer should take a value between 0 and 1)\n",
        "\n"
      ]
    },
    {
      "cell_type": "code",
      "metadata": {
        "id": "5mCiAOmGlNMa",
        "colab_type": "code",
        "colab": {
          "base_uri": "https://localhost:8080/",
          "height": 235
        },
        "outputId": "656600bd-777d-488c-8c2d-5367e49b3ca5"
      },
      "source": [
        "propo=arres.Year.value_counts(normalize=True)\n",
        "propo"
      ],
      "execution_count": 15,
      "outputs": [
        {
          "output_type": "execute_result",
          "data": {
            "text/plain": [
              "2001    0.138517\n",
              "2002    0.136135\n",
              "2003    0.115731\n",
              "2004    0.108973\n",
              "2005    0.098352\n",
              "2006    0.083805\n",
              "2007    0.078012\n",
              "2008    0.065654\n",
              "2009    0.054068\n",
              "2010    0.045121\n",
              "2011    0.040229\n",
              "2012    0.035402\n",
              "Name: Year, dtype: float64"
            ]
          },
          "metadata": {
            "tags": []
          },
          "execution_count": 15
        }
      ]
    },
    {
      "cell_type": "markdown",
      "metadata": {
        "id": "KjV1aNIplUsi",
        "colab_type": "text"
      },
      "source": [
        "11.Which locations are the top five locations for motor vehicle thefts, excluding the \"Other\" category?\n",
        "(Note locations here indicate bank, hotel etc)\n"
      ]
    },
    {
      "cell_type": "code",
      "metadata": {
        "id": "JwDeTQ_GlVgT",
        "colab_type": "code",
        "colab": {
          "base_uri": "https://localhost:8080/",
          "height": 118
        },
        "outputId": "5ccce76f-b6b4-4829-afe0-66595dd37af9"
      },
      "source": [
        "detective.drop(detective[detective['LocationDescription']=='OTHER'].index,inplace=True)\n",
        "count=detective.LocationDescription.value_counts() \n",
        "count.head()"
      ],
      "execution_count": 16,
      "outputs": [
        {
          "output_type": "execute_result",
          "data": {
            "text/plain": [
              "STREET                            156564\n",
              "PARKING LOT/GARAGE(NON.RESID.)     14852\n",
              "ALLEY                               2308\n",
              "GAS STATION                         2111\n",
              "DRIVEWAY - RESIDENTIAL              1675\n",
              "Name: LocationDescription, dtype: int64"
            ]
          },
          "metadata": {
            "tags": []
          },
          "execution_count": 16
        }
      ]
    },
    {
      "cell_type": "markdown",
      "metadata": {
        "id": "EMBnY12imToU",
        "colab_type": "text"
      },
      "source": [
        "12.On which day of the week do the most motor vehicle thefts at gas stations happen?"
      ]
    },
    {
      "cell_type": "code",
      "metadata": {
        "id": "jp2ya8fsmUUg",
        "colab_type": "code",
        "colab": {
          "base_uri": "https://localhost:8080/",
          "height": 50
        },
        "outputId": "2f34a320-0a52-4c29-d6a4-3ded0340102b"
      },
      "source": [
        "specific=detective[detective['LocationDescription']=='GAS STATION']\n",
        "spec=specific.Date.dt.day_name()\n",
        "spec.mode()"
      ],
      "execution_count": 17,
      "outputs": [
        {
          "output_type": "execute_result",
          "data": {
            "text/plain": [
              "0    Saturday\n",
              "dtype: object"
            ]
          },
          "metadata": {
            "tags": []
          },
          "execution_count": 17
        }
      ]
    },
    {
      "cell_type": "markdown",
      "metadata": {
        "id": "MEO2Lnktm-_2",
        "colab_type": "text"
      },
      "source": [
        "13What is the most theft prone location?\n"
      ]
    },
    {
      "cell_type": "code",
      "metadata": {
        "id": "oaRbEelDm_ye",
        "colab_type": "code",
        "colab": {
          "base_uri": "https://localhost:8080/",
          "height": 50
        },
        "outputId": "117b2a69-ad07-4112-ca3f-9656636eb644"
      },
      "source": [
        "detective.LocationDescription.mode()"
      ],
      "execution_count": 18,
      "outputs": [
        {
          "output_type": "execute_result",
          "data": {
            "text/plain": [
              "0    STREET\n",
              "dtype: object"
            ]
          },
          "metadata": {
            "tags": []
          },
          "execution_count": 18
        }
      ]
    },
    {
      "cell_type": "markdown",
      "metadata": {
        "id": "j9j3F4VnnLLd",
        "colab_type": "text"
      },
      "source": [
        "14Extract numerical features from the dataset and make separate tables for numerical features.\n"
      ]
    },
    {
      "cell_type": "code",
      "metadata": {
        "id": "rFO-gDuPnL1B",
        "colab_type": "code",
        "colab": {
          "base_uri": "https://localhost:8080/",
          "height": 212
        },
        "outputId": "24766e60-5769-42cc-8789-b69f58c2dc11"
      },
      "source": [
        "numerical_features = [feature for feature in detective.columns if detective[feature].dtypes != 'O']\n",
        "\n",
        "print('Number of numerical variables: ', len(numerical_features))\n",
        "\n",
        "detective[numerical_features].head()"
      ],
      "execution_count": 19,
      "outputs": [
        {
          "output_type": "stream",
          "text": [
            "Number of numerical variables:  7\n"
          ],
          "name": "stdout"
        },
        {
          "output_type": "execute_result",
          "data": {
            "text/html": [
              "<div>\n",
              "<style scoped>\n",
              "    .dataframe tbody tr th:only-of-type {\n",
              "        vertical-align: middle;\n",
              "    }\n",
              "\n",
              "    .dataframe tbody tr th {\n",
              "        vertical-align: top;\n",
              "    }\n",
              "\n",
              "    .dataframe thead th {\n",
              "        text-align: right;\n",
              "    }\n",
              "</style>\n",
              "<table border=\"1\" class=\"dataframe\">\n",
              "  <thead>\n",
              "    <tr style=\"text-align: right;\">\n",
              "      <th></th>\n",
              "      <th>Unnamed: 0</th>\n",
              "      <th>ID</th>\n",
              "      <th>Date</th>\n",
              "      <th>Arrest</th>\n",
              "      <th>Domestic</th>\n",
              "      <th>Beat</th>\n",
              "      <th>Year</th>\n",
              "    </tr>\n",
              "  </thead>\n",
              "  <tbody>\n",
              "    <tr>\n",
              "      <th>0</th>\n",
              "      <td>0</td>\n",
              "      <td>8951354</td>\n",
              "      <td>2012-12-31 23:15:00</td>\n",
              "      <td>False</td>\n",
              "      <td>False</td>\n",
              "      <td>623</td>\n",
              "      <td>2012</td>\n",
              "    </tr>\n",
              "    <tr>\n",
              "      <th>1</th>\n",
              "      <td>1</td>\n",
              "      <td>8951141</td>\n",
              "      <td>2012-12-31 22:00:00</td>\n",
              "      <td>False</td>\n",
              "      <td>False</td>\n",
              "      <td>1213</td>\n",
              "      <td>2012</td>\n",
              "    </tr>\n",
              "    <tr>\n",
              "      <th>2</th>\n",
              "      <td>2</td>\n",
              "      <td>8952745</td>\n",
              "      <td>2012-12-31 22:00:00</td>\n",
              "      <td>False</td>\n",
              "      <td>False</td>\n",
              "      <td>1622</td>\n",
              "      <td>2012</td>\n",
              "    </tr>\n",
              "    <tr>\n",
              "      <th>3</th>\n",
              "      <td>3</td>\n",
              "      <td>8952223</td>\n",
              "      <td>2012-12-31 22:00:00</td>\n",
              "      <td>False</td>\n",
              "      <td>False</td>\n",
              "      <td>724</td>\n",
              "      <td>2012</td>\n",
              "    </tr>\n",
              "    <tr>\n",
              "      <th>4</th>\n",
              "      <td>4</td>\n",
              "      <td>8951608</td>\n",
              "      <td>2012-12-31 21:30:00</td>\n",
              "      <td>False</td>\n",
              "      <td>False</td>\n",
              "      <td>211</td>\n",
              "      <td>2012</td>\n",
              "    </tr>\n",
              "  </tbody>\n",
              "</table>\n",
              "</div>"
            ],
            "text/plain": [
              "   Unnamed: 0       ID                Date  Arrest  Domestic  Beat  Year\n",
              "0           0  8951354 2012-12-31 23:15:00   False     False   623  2012\n",
              "1           1  8951141 2012-12-31 22:00:00   False     False  1213  2012\n",
              "2           2  8952745 2012-12-31 22:00:00   False     False  1622  2012\n",
              "3           3  8952223 2012-12-31 22:00:00   False     False   724  2012\n",
              "4           4  8951608 2012-12-31 21:30:00   False     False   211  2012"
            ]
          },
          "metadata": {
            "tags": []
          },
          "execution_count": 19
        }
      ]
    },
    {
      "cell_type": "code",
      "metadata": {
        "id": "1lna-Fl4ohtB",
        "colab_type": "code",
        "colab": {
          "base_uri": "https://localhost:8080/",
          "height": 402
        },
        "outputId": "018edfec-4a9c-46d3-94fd-ea33255a062c"
      },
      "source": [
        "num=detective.select_dtypes(include=np.number)\n",
        "num"
      ],
      "execution_count": 20,
      "outputs": [
        {
          "output_type": "execute_result",
          "data": {
            "text/html": [
              "<div>\n",
              "<style scoped>\n",
              "    .dataframe tbody tr th:only-of-type {\n",
              "        vertical-align: middle;\n",
              "    }\n",
              "\n",
              "    .dataframe tbody tr th {\n",
              "        vertical-align: top;\n",
              "    }\n",
              "\n",
              "    .dataframe thead th {\n",
              "        text-align: right;\n",
              "    }\n",
              "</style>\n",
              "<table border=\"1\" class=\"dataframe\">\n",
              "  <thead>\n",
              "    <tr style=\"text-align: right;\">\n",
              "      <th></th>\n",
              "      <th>Unnamed: 0</th>\n",
              "      <th>ID</th>\n",
              "      <th>Beat</th>\n",
              "      <th>Year</th>\n",
              "    </tr>\n",
              "  </thead>\n",
              "  <tbody>\n",
              "    <tr>\n",
              "      <th>0</th>\n",
              "      <td>0</td>\n",
              "      <td>8951354</td>\n",
              "      <td>623</td>\n",
              "      <td>2012</td>\n",
              "    </tr>\n",
              "    <tr>\n",
              "      <th>1</th>\n",
              "      <td>1</td>\n",
              "      <td>8951141</td>\n",
              "      <td>1213</td>\n",
              "      <td>2012</td>\n",
              "    </tr>\n",
              "    <tr>\n",
              "      <th>2</th>\n",
              "      <td>2</td>\n",
              "      <td>8952745</td>\n",
              "      <td>1622</td>\n",
              "      <td>2012</td>\n",
              "    </tr>\n",
              "    <tr>\n",
              "      <th>3</th>\n",
              "      <td>3</td>\n",
              "      <td>8952223</td>\n",
              "      <td>724</td>\n",
              "      <td>2012</td>\n",
              "    </tr>\n",
              "    <tr>\n",
              "      <th>4</th>\n",
              "      <td>4</td>\n",
              "      <td>8951608</td>\n",
              "      <td>211</td>\n",
              "      <td>2012</td>\n",
              "    </tr>\n",
              "    <tr>\n",
              "      <th>...</th>\n",
              "      <td>...</td>\n",
              "      <td>...</td>\n",
              "      <td>...</td>\n",
              "      <td>...</td>\n",
              "    </tr>\n",
              "    <tr>\n",
              "      <th>191636</th>\n",
              "      <td>191636</td>\n",
              "      <td>1310068</td>\n",
              "      <td>1123</td>\n",
              "      <td>2001</td>\n",
              "    </tr>\n",
              "    <tr>\n",
              "      <th>191637</th>\n",
              "      <td>191637</td>\n",
              "      <td>1313404</td>\n",
              "      <td>2023</td>\n",
              "      <td>2001</td>\n",
              "    </tr>\n",
              "    <tr>\n",
              "      <th>191638</th>\n",
              "      <td>191638</td>\n",
              "      <td>1313442</td>\n",
              "      <td>911</td>\n",
              "      <td>2001</td>\n",
              "    </tr>\n",
              "    <tr>\n",
              "      <th>191639</th>\n",
              "      <td>191639</td>\n",
              "      <td>1563324</td>\n",
              "      <td>1712</td>\n",
              "      <td>2001</td>\n",
              "    </tr>\n",
              "    <tr>\n",
              "      <th>191640</th>\n",
              "      <td>191640</td>\n",
              "      <td>1310463</td>\n",
              "      <td>1911</td>\n",
              "      <td>2001</td>\n",
              "    </tr>\n",
              "  </tbody>\n",
              "</table>\n",
              "<p>187068 rows × 4 columns</p>\n",
              "</div>"
            ],
            "text/plain": [
              "        Unnamed: 0       ID  Beat  Year\n",
              "0                0  8951354   623  2012\n",
              "1                1  8951141  1213  2012\n",
              "2                2  8952745  1622  2012\n",
              "3                3  8952223   724  2012\n",
              "4                4  8951608   211  2012\n",
              "...            ...      ...   ...   ...\n",
              "191636      191636  1310068  1123  2001\n",
              "191637      191637  1313404  2023  2001\n",
              "191638      191638  1313442   911  2001\n",
              "191639      191639  1563324  1712  2001\n",
              "191640      191640  1310463  1911  2001\n",
              "\n",
              "[187068 rows x 4 columns]"
            ]
          },
          "metadata": {
            "tags": []
          },
          "execution_count": 20
        }
      ]
    },
    {
      "cell_type": "markdown",
      "metadata": {
        "id": "ymrPDlVjpvK0",
        "colab_type": "text"
      },
      "source": [
        "15 Plot the scatter plot b/w location and arrest features. Write down your observations in a text  cell.\n",
        "\n"
      ]
    },
    {
      "cell_type": "code",
      "metadata": {
        "id": "q7eq6Iimpzai",
        "colab_type": "code",
        "colab": {
          "base_uri": "https://localhost:8080/",
          "height": 285
        },
        "outputId": "d6b2ed38-0d49-429a-9161-228b99a87b76"
      },
      "source": [
        "x=detective.LocationDescription\n",
        "y=detective.Arrest \n",
        "plt.xlabel('Location')\n",
        "plt.ylabel('Arrest')\n",
        "plt.scatter(x,y,label='Scatterplot')\n",
        "plt.legend()\n",
        "plt.show()"
      ],
      "execution_count": 21,
      "outputs": [
        {
          "output_type": "display_data",
          "data": {
            "image/png": "[encoded data removed]",
            "text/plain": [
              "<Figure size 432x288 with 1 Axes>"
            ]
          },
          "metadata": {
            "tags": []
          }
        }
      ]
    },
    {
      "cell_type": "markdown",
      "metadata": {
        "id": "nbS0dGeqqaQi",
        "colab_type": "text"
      },
      "source": [
        "in the scatter plot it shows about the values 1 or 0. here arrest has the values i.e; (True,False) to show on graph they are indicated as 1 or 0.it shows less arrest are made then escape."
      ]
    },
    {
      "cell_type": "markdown",
      "metadata": {
        "id": "1VkM-hmZ_HM5",
        "colab_type": "text"
      },
      "source": [
        "\n",
        "16. Find the outliers in the beat feature. And drop the index column.\n"
      ]
    },
    {
      "cell_type": "code",
      "metadata": {
        "id": "JU-EOFWO_IRx",
        "colab_type": "code",
        "colab": {
          "base_uri": "https://localhost:8080/",
          "height": 402
        },
        "outputId": "a9133b7e-0194-40d1-8caf-d40e833f5f39"
      },
      "source": [
        "detective.sort_values('Beat')"
      ],
      "execution_count": 22,
      "outputs": [
        {
          "output_type": "execute_result",
          "data": {
            "text/html": [
              "<div>\n",
              "<style scoped>\n",
              "    .dataframe tbody tr th:only-of-type {\n",
              "        vertical-align: middle;\n",
              "    }\n",
              "\n",
              "    .dataframe tbody tr th {\n",
              "        vertical-align: top;\n",
              "    }\n",
              "\n",
              "    .dataframe thead th {\n",
              "        text-align: right;\n",
              "    }\n",
              "</style>\n",
              "<table border=\"1\" class=\"dataframe\">\n",
              "  <thead>\n",
              "    <tr style=\"text-align: right;\">\n",
              "      <th></th>\n",
              "      <th>Unnamed: 0</th>\n",
              "      <th>ID</th>\n",
              "      <th>Date</th>\n",
              "      <th>LocationDescription</th>\n",
              "      <th>Arrest</th>\n",
              "      <th>Domestic</th>\n",
              "      <th>Beat</th>\n",
              "      <th>District</th>\n",
              "      <th>CommunityArea</th>\n",
              "      <th>Year</th>\n",
              "    </tr>\n",
              "  </thead>\n",
              "  <tbody>\n",
              "    <tr>\n",
              "      <th>65277</th>\n",
              "      <td>65277</td>\n",
              "      <td>6322196</td>\n",
              "      <td>2008-06-22 06:00:00</td>\n",
              "      <td>PARKING LOT/GARAGE(NON.RESID.)</td>\n",
              "      <td>False</td>\n",
              "      <td>False</td>\n",
              "      <td>111</td>\n",
              "      <td>1</td>\n",
              "      <td>28</td>\n",
              "      <td>2008</td>\n",
              "    </tr>\n",
              "    <tr>\n",
              "      <th>63919</th>\n",
              "      <td>63919</td>\n",
              "      <td>6401343</td>\n",
              "      <td>2008-07-21 09:00:00</td>\n",
              "      <td>STREET</td>\n",
              "      <td>False</td>\n",
              "      <td>False</td>\n",
              "      <td>111</td>\n",
              "      <td>1</td>\n",
              "      <td>28</td>\n",
              "      <td>2008</td>\n",
              "    </tr>\n",
              "    <tr>\n",
              "      <th>143608</th>\n",
              "      <td>143608</td>\n",
              "      <td>2830413</td>\n",
              "      <td>2003-07-13 12:00:00</td>\n",
              "      <td>STREET</td>\n",
              "      <td>False</td>\n",
              "      <td>False</td>\n",
              "      <td>111</td>\n",
              "      <td>1</td>\n",
              "      <td>28</td>\n",
              "      <td>2003</td>\n",
              "    </tr>\n",
              "    <tr>\n",
              "      <th>82812</th>\n",
              "      <td>82812</td>\n",
              "      <td>5443488</td>\n",
              "      <td>2007-03-27 18:00:00</td>\n",
              "      <td>STREET</td>\n",
              "      <td>False</td>\n",
              "      <td>False</td>\n",
              "      <td>111</td>\n",
              "      <td>1</td>\n",
              "      <td>28</td>\n",
              "      <td>2007</td>\n",
              "    </tr>\n",
              "    <tr>\n",
              "      <th>66565</th>\n",
              "      <td>66565</td>\n",
              "      <td>6261364</td>\n",
              "      <td>2008-05-21 10:30:00</td>\n",
              "      <td>STREET</td>\n",
              "      <td>True</td>\n",
              "      <td>False</td>\n",
              "      <td>111</td>\n",
              "      <td>1</td>\n",
              "      <td>28</td>\n",
              "      <td>2008</td>\n",
              "    </tr>\n",
              "    <tr>\n",
              "      <th>...</th>\n",
              "      <td>...</td>\n",
              "      <td>...</td>\n",
              "      <td>...</td>\n",
              "      <td>...</td>\n",
              "      <td>...</td>\n",
              "      <td>...</td>\n",
              "      <td>...</td>\n",
              "      <td>...</td>\n",
              "      <td>...</td>\n",
              "      <td>...</td>\n",
              "    </tr>\n",
              "    <tr>\n",
              "      <th>138212</th>\n",
              "      <td>138212</td>\n",
              "      <td>3031536</td>\n",
              "      <td>2003-11-05 13:00:00</td>\n",
              "      <td>RESIDENCE-GARAGE</td>\n",
              "      <td>True</td>\n",
              "      <td>False</td>\n",
              "      <td>2535</td>\n",
              "      <td>25</td>\n",
              "      <td>22</td>\n",
              "      <td>2003</td>\n",
              "    </tr>\n",
              "    <tr>\n",
              "      <th>26807</th>\n",
              "      <td>26807</td>\n",
              "      <td>7965833</td>\n",
              "      <td>2011-03-10 19:00:00</td>\n",
              "      <td>STREET</td>\n",
              "      <td>False</td>\n",
              "      <td>False</td>\n",
              "      <td>2535</td>\n",
              "      <td>25</td>\n",
              "      <td>23</td>\n",
              "      <td>2011</td>\n",
              "    </tr>\n",
              "    <tr>\n",
              "      <th>157522</th>\n",
              "      <td>157522</td>\n",
              "      <td>2583039</td>\n",
              "      <td>2002-09-17 10:00:00</td>\n",
              "      <td>RESIDENCE-GARAGE</td>\n",
              "      <td>False</td>\n",
              "      <td>True</td>\n",
              "      <td>2535</td>\n",
              "      <td>NaN</td>\n",
              "      <td>23</td>\n",
              "      <td>2002</td>\n",
              "    </tr>\n",
              "    <tr>\n",
              "      <th>98323</th>\n",
              "      <td>98323</td>\n",
              "      <td>4668060</td>\n",
              "      <td>2006-03-25 20:30:00</td>\n",
              "      <td>STREET</td>\n",
              "      <td>False</td>\n",
              "      <td>False</td>\n",
              "      <td>2535</td>\n",
              "      <td>25</td>\n",
              "      <td>23</td>\n",
              "      <td>2006</td>\n",
              "    </tr>\n",
              "    <tr>\n",
              "      <th>59928</th>\n",
              "      <td>59928</td>\n",
              "      <td>6561573</td>\n",
              "      <td>2008-10-17 21:00:00</td>\n",
              "      <td>STREET</td>\n",
              "      <td>False</td>\n",
              "      <td>False</td>\n",
              "      <td>2535</td>\n",
              "      <td>25</td>\n",
              "      <td>23</td>\n",
              "      <td>2008</td>\n",
              "    </tr>\n",
              "  </tbody>\n",
              "</table>\n",
              "<p>187068 rows × 10 columns</p>\n",
              "</div>"
            ],
            "text/plain": [
              "        Unnamed: 0       ID                Date  ... District  CommunityArea  Year\n",
              "65277        65277  6322196 2008-06-22 06:00:00  ...        1             28  2008\n",
              "63919        63919  6401343 2008-07-21 09:00:00  ...        1             28  2008\n",
              "143608      143608  2830413 2003-07-13 12:00:00  ...        1             28  2003\n",
              "82812        82812  5443488 2007-03-27 18:00:00  ...        1             28  2007\n",
              "66565        66565  6261364 2008-05-21 10:30:00  ...        1             28  2008\n",
              "...            ...      ...                 ...  ...      ...            ...   ...\n",
              "138212      138212  3031536 2003-11-05 13:00:00  ...       25             22  2003\n",
              "26807        26807  7965833 2011-03-10 19:00:00  ...       25             23  2011\n",
              "157522      157522  2583039 2002-09-17 10:00:00  ...      NaN             23  2002\n",
              "98323        98323  4668060 2006-03-25 20:30:00  ...       25             23  2006\n",
              "59928        59928  6561573 2008-10-17 21:00:00  ...       25             23  2008\n",
              "\n",
              "[187068 rows x 10 columns]"
            ]
          },
          "metadata": {
            "tags": []
          },
          "execution_count": 22
        }
      ]
    },
    {
      "cell_type": "code",
      "metadata": {
        "id": "I5AN8Lhz_P8O",
        "colab_type": "code",
        "colab": {
          "base_uri": "https://localhost:8080/",
          "height": 34
        },
        "outputId": "abc634c5-22e3-4bf1-9c38-e575d6b6fca7"
      },
      "source": [
        "q1,q3=np.percentile(detective['Beat'],[25,75])\n",
        "iqr=q3-q1\n",
        "l_b=q1-(1.5*iqr)\n",
        "u_b=q3+(1.5*iqr)\n",
        "l_b,u_b"
      ],
      "execution_count": 23,
      "outputs": [
        {
          "output_type": "execute_result",
          "data": {
            "text/plain": [
              "(-794.5, 3249.5)"
            ]
          },
          "metadata": {
            "tags": []
          },
          "execution_count": 23
        }
      ]
    },
    {
      "cell_type": "markdown",
      "metadata": {
        "id": "LUyB-nTI_0md",
        "colab_type": "text"
      },
      "source": [
        "17Convert domestic feature variables into binary variables (i.e 1 or 0), and write code to find out strongly correlated features in a given dataset.\n"
      ]
    },
    {
      "cell_type": "code",
      "metadata": {
        "id": "I2A2S4rM_2go",
        "colab_type": "code",
        "colab": {
          "base_uri": "https://localhost:8080/",
          "height": 195
        },
        "outputId": "9817bdf8-4ad0-4898-c7db-807a8e42cbbd"
      },
      "source": [
        "detective.Domestic=detective['Domestic'].astype(int)\n",
        "detective.head()"
      ],
      "execution_count": 24,
      "outputs": [
        {
          "output_type": "execute_result",
          "data": {
            "text/html": [
              "<div>\n",
              "<style scoped>\n",
              "    .dataframe tbody tr th:only-of-type {\n",
              "        vertical-align: middle;\n",
              "    }\n",
              "\n",
              "    .dataframe tbody tr th {\n",
              "        vertical-align: top;\n",
              "    }\n",
              "\n",
              "    .dataframe thead th {\n",
              "        text-align: right;\n",
              "    }\n",
              "</style>\n",
              "<table border=\"1\" class=\"dataframe\">\n",
              "  <thead>\n",
              "    <tr style=\"text-align: right;\">\n",
              "      <th></th>\n",
              "      <th>Unnamed: 0</th>\n",
              "      <th>ID</th>\n",
              "      <th>Date</th>\n",
              "      <th>LocationDescription</th>\n",
              "      <th>Arrest</th>\n",
              "      <th>Domestic</th>\n",
              "      <th>Beat</th>\n",
              "      <th>District</th>\n",
              "      <th>CommunityArea</th>\n",
              "      <th>Year</th>\n",
              "    </tr>\n",
              "  </thead>\n",
              "  <tbody>\n",
              "    <tr>\n",
              "      <th>0</th>\n",
              "      <td>0</td>\n",
              "      <td>8951354</td>\n",
              "      <td>2012-12-31 23:15:00</td>\n",
              "      <td>STREET</td>\n",
              "      <td>False</td>\n",
              "      <td>0</td>\n",
              "      <td>623</td>\n",
              "      <td>6</td>\n",
              "      <td>69</td>\n",
              "      <td>2012</td>\n",
              "    </tr>\n",
              "    <tr>\n",
              "      <th>1</th>\n",
              "      <td>1</td>\n",
              "      <td>8951141</td>\n",
              "      <td>2012-12-31 22:00:00</td>\n",
              "      <td>STREET</td>\n",
              "      <td>False</td>\n",
              "      <td>0</td>\n",
              "      <td>1213</td>\n",
              "      <td>12</td>\n",
              "      <td>24</td>\n",
              "      <td>2012</td>\n",
              "    </tr>\n",
              "    <tr>\n",
              "      <th>2</th>\n",
              "      <td>2</td>\n",
              "      <td>8952745</td>\n",
              "      <td>2012-12-31 22:00:00</td>\n",
              "      <td>RESIDENTIAL YARD (FRONT/BACK)</td>\n",
              "      <td>False</td>\n",
              "      <td>0</td>\n",
              "      <td>1622</td>\n",
              "      <td>16</td>\n",
              "      <td>11</td>\n",
              "      <td>2012</td>\n",
              "    </tr>\n",
              "    <tr>\n",
              "      <th>3</th>\n",
              "      <td>3</td>\n",
              "      <td>8952223</td>\n",
              "      <td>2012-12-31 22:00:00</td>\n",
              "      <td>STREET</td>\n",
              "      <td>False</td>\n",
              "      <td>0</td>\n",
              "      <td>724</td>\n",
              "      <td>7</td>\n",
              "      <td>67</td>\n",
              "      <td>2012</td>\n",
              "    </tr>\n",
              "    <tr>\n",
              "      <th>4</th>\n",
              "      <td>4</td>\n",
              "      <td>8951608</td>\n",
              "      <td>2012-12-31 21:30:00</td>\n",
              "      <td>STREET</td>\n",
              "      <td>False</td>\n",
              "      <td>0</td>\n",
              "      <td>211</td>\n",
              "      <td>2</td>\n",
              "      <td>35</td>\n",
              "      <td>2012</td>\n",
              "    </tr>\n",
              "  </tbody>\n",
              "</table>\n",
              "</div>"
            ],
            "text/plain": [
              "   Unnamed: 0       ID                Date  ... District  CommunityArea  Year\n",
              "0           0  8951354 2012-12-31 23:15:00  ...        6             69  2012\n",
              "1           1  8951141 2012-12-31 22:00:00  ...       12             24  2012\n",
              "2           2  8952745 2012-12-31 22:00:00  ...       16             11  2012\n",
              "3           3  8952223 2012-12-31 22:00:00  ...        7             67  2012\n",
              "4           4  8951608 2012-12-31 21:30:00  ...        2             35  2012\n",
              "\n",
              "[5 rows x 10 columns]"
            ]
          },
          "metadata": {
            "tags": []
          },
          "execution_count": 24
        }
      ]
    },
    {
      "cell_type": "markdown",
      "metadata": {
        "id": "CMKHmzQ8AJwM",
        "colab_type": "text"
      },
      "source": [
        "18Plot the correlation matrix for the  dataset. And what are continuous and distinct features in numerical features.write code identify continuous and distinct features.\n",
        "\n",
        "\n"
      ]
    },
    {
      "cell_type": "code",
      "metadata": {
        "id": "yhvBMuAOAKhG",
        "colab_type": "code",
        "colab": {
          "base_uri": "https://localhost:8080/",
          "height": 225
        },
        "outputId": "37badfbc-091a-43fe-a6c1-dead6d5b6bdb"
      },
      "source": [
        "S =detective.corr()\n",
        "S"
      ],
      "execution_count": 25,
      "outputs": [
        {
          "output_type": "execute_result",
          "data": {
            "text/html": [
              "<div>\n",
              "<style scoped>\n",
              "    .dataframe tbody tr th:only-of-type {\n",
              "        vertical-align: middle;\n",
              "    }\n",
              "\n",
              "    .dataframe tbody tr th {\n",
              "        vertical-align: top;\n",
              "    }\n",
              "\n",
              "    .dataframe thead th {\n",
              "        text-align: right;\n",
              "    }\n",
              "</style>\n",
              "<table border=\"1\" class=\"dataframe\">\n",
              "  <thead>\n",
              "    <tr style=\"text-align: right;\">\n",
              "      <th></th>\n",
              "      <th>Unnamed: 0</th>\n",
              "      <th>ID</th>\n",
              "      <th>Arrest</th>\n",
              "      <th>Domestic</th>\n",
              "      <th>Beat</th>\n",
              "      <th>Year</th>\n",
              "    </tr>\n",
              "  </thead>\n",
              "  <tbody>\n",
              "    <tr>\n",
              "      <th>Unnamed: 0</th>\n",
              "      <td>1.000000</td>\n",
              "      <td>-0.997200</td>\n",
              "      <td>0.089324</td>\n",
              "      <td>-0.029315</td>\n",
              "      <td>0.002713</td>\n",
              "      <td>-0.995019</td>\n",
              "    </tr>\n",
              "    <tr>\n",
              "      <th>ID</th>\n",
              "      <td>-0.997200</td>\n",
              "      <td>1.000000</td>\n",
              "      <td>-0.090679</td>\n",
              "      <td>0.030151</td>\n",
              "      <td>-0.001875</td>\n",
              "      <td>0.995630</td>\n",
              "    </tr>\n",
              "    <tr>\n",
              "      <th>Arrest</th>\n",
              "      <td>0.089324</td>\n",
              "      <td>-0.090679</td>\n",
              "      <td>1.000000</td>\n",
              "      <td>0.013785</td>\n",
              "      <td>-0.002908</td>\n",
              "      <td>-0.090133</td>\n",
              "    </tr>\n",
              "    <tr>\n",
              "      <th>Domestic</th>\n",
              "      <td>-0.029315</td>\n",
              "      <td>0.030151</td>\n",
              "      <td>0.013785</td>\n",
              "      <td>1.000000</td>\n",
              "      <td>-0.006670</td>\n",
              "      <td>0.030337</td>\n",
              "    </tr>\n",
              "    <tr>\n",
              "      <th>Beat</th>\n",
              "      <td>0.002713</td>\n",
              "      <td>-0.001875</td>\n",
              "      <td>-0.002908</td>\n",
              "      <td>-0.006670</td>\n",
              "      <td>1.000000</td>\n",
              "      <td>-0.002742</td>\n",
              "    </tr>\n",
              "    <tr>\n",
              "      <th>Year</th>\n",
              "      <td>-0.995019</td>\n",
              "      <td>0.995630</td>\n",
              "      <td>-0.090133</td>\n",
              "      <td>0.030337</td>\n",
              "      <td>-0.002742</td>\n",
              "      <td>1.000000</td>\n",
              "    </tr>\n",
              "  </tbody>\n",
              "</table>\n",
              "</div>"
            ],
            "text/plain": [
              "            Unnamed: 0        ID    Arrest  Domestic      Beat      Year\n",
              "Unnamed: 0    1.000000 -0.997200  0.089324 -0.029315  0.002713 -0.995019\n",
              "ID           -0.997200  1.000000 -0.090679  0.030151 -0.001875  0.995630\n",
              "Arrest        0.089324 -0.090679  1.000000  0.013785 -0.002908 -0.090133\n",
              "Domestic     -0.029315  0.030151  0.013785  1.000000 -0.006670  0.030337\n",
              "Beat          0.002713 -0.001875 -0.002908 -0.006670  1.000000 -0.002742\n",
              "Year         -0.995019  0.995630 -0.090133  0.030337 -0.002742  1.000000"
            ]
          },
          "metadata": {
            "tags": []
          },
          "execution_count": 25
        }
      ]
    },
    {
      "cell_type": "code",
      "metadata": {
        "id": "2rwTOBE0AV-S",
        "colab_type": "code",
        "colab": {
          "base_uri": "https://localhost:8080/",
          "height": 289
        },
        "outputId": "de308602-1151-4779-dbee-112c03504626"
      },
      "source": [
        "sns.heatmap(S,annot=True)"
      ],
      "execution_count": 26,
      "outputs": [
        {
          "output_type": "execute_result",
          "data": {
            "text/plain": [
              "<matplotlib.axes._subplots.AxesSubplot at 0x7f82cf19db38>"
            ]
          },
          "metadata": {
            "tags": []
          },
          "execution_count": 26
        },
        {
          "output_type": "display_data",
          "data": {
            "image/png": "[encoded data removed]",
            "text/plain": [
              "<Figure size 432x288 with 2 Axes>"
            ]
          },
          "metadata": {
            "tags": []
          }
        }
      ]
    },
    {
      "cell_type": "code",
      "metadata": {
        "id": "UqTiXt0zD2uY",
        "colab_type": "code",
        "colab": {}
      },
      "source": [
        ""
      ],
      "execution_count": 26,
      "outputs": []
    }
  ]
}